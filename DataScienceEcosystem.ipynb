{
 "cells": [
  {
   "cell_type": "markdown",
   "metadata": {},
   "source": [
    "<center>\n",
    "    <img src=\"https://cf-courses-data.s3.us.cloud-object-storage.appdomain.cloud/IBMDeveloperSkillsNetwork-DS0105EN-SkillsNetwork/labs/Module2/images/SN_web_lightmode.png\" width=\"300\" alt=\"cognitiveclass.ai logo\">\n",
    "</center>\n"
   ]
  },
  {
   "cell_type": "markdown",
   "metadata": {},
   "source": [
    "# notebook title :\n",
    "# Data Science Tools and Ecosystem\n"
   ]
  },
  {
   "cell_type": "markdown",
   "metadata": {},
   "source": [
    "**in this notebook i will submit my work as part of ibm data science course and Data Science Tools and Ecosystem are summarized**"
   ]
  },
  {
   "cell_type": "markdown",
   "metadata": {},
   "source": [
    "**Objectives:**\n",
    "* we listed papular data science languages\n",
    "* we created markdown cells and understand its basic syntax\n",
    "* created a table of data science tools\n",
    "* we listed papular data science libraries"
   ]
  },
  {
   "cell_type": "markdown",
   "metadata": {},
   "source": [
    "# some of data science languages :\n",
    "* ## python\n",
    "* ##  R\n",
    "* ##  julia\n",
    "* ##  scala\n",
    "* ##  SQL\n",
    "* ##  C++\n",
    "* ##  JavaScript"
   ]
  },
  {
   "cell_type": "markdown",
   "metadata": {},
   "source": [
    "# some of data science libraries :\n",
    "* ##  matplotlib\n",
    "* ##  numpy\n",
    "* ##  polars\n",
    "* ##  keras\n",
    "* ##  tenserflow\n",
    "* ##  pytorch\n",
    "* ##  seaborn"
   ]
  },
  {
   "cell_type": "markdown",
   "metadata": {},
   "source": [
    "| Tool               | Category            | Description                                                                                 |\n",
    "|--------------------|---------------------|---------------------------------------------------------------------------------------------|\n",
    "| Python             | Programming Language| Widely used language for data analysis, machine learning, and visualization                |\n",
    "| R                  | Programming Language| Popular for statistical computing and data visualization, especially in academic settings  |\n",
    "| Jupyter Notebook   | Development Environment | Interactive notebooks that allow code, text, and visualizations in one document          |\n",
    "| Apache Spark       | Big Data Processing | Distributed computing framework, ideal for processing large-scale data                     |\n",
    "| TensorFlow         | Machine Learning    | Open-source library for machine learning and deep learning, developed by Google           |\n",
    "| PyTorch            | Machine Learning    | Deep learning framework developed by Facebook, popular in research and industry          |\n",
    "| SQL                | Database            | Language for querying and managing relational databases, essential for handling data       |\n",
    "| Tableau            | Data Visualization  | Business intelligence and data visualization tool for creating interactive dashboards     |\n",
    "| Power BI           | Data Visualization  | Microsoft’s business analytics tool for visualizing data and sharing insights             |\n",
    "| Scikit-Learn       | Machine Learning    | Machine learning library in Python for traditional models like regression and classification.|\n",
    "| Keras              | Machine Learning    | High-level neural networks API, running on top of TensorFlow                              |\n",
    "| Hadoop             | Big Data Processing | Open-source framework for distributed storage and processing of large datasets            |\n",
    "| SAS                | Statistical Analysis| Software suite used for advanced analytics, business intelligence, and data management    |\n",
    "| Excel              | Data Analysis       | Spreadsheet software often used for basic data analysis and visualization tasks           |\n",
    "| Matplotlib         | Data Visualization  | Plotting library in Python for creating static, animated, and interactive visualizations  |\n",
    "| Numpy              | Data Processing     | Python library for numerical operations, crucial for handling arrays and matrices        |"
   ]
  },
  {
   "cell_type": "markdown",
   "metadata": {},
   "source": [
    "### Arithmetic Expressions in Python\n",
    "\n",
    "Arithmetic expressions are basic mathematical expressions used to perform operations like addition, subtraction, multiplication, and division. They are essential for data processing and manipulation in Python\n",
    "\n",
    "- **Addition (`+`)**: Adds two numbers\n",
    "- **Subtraction (`-`)**: Subtracts the second number from the first\n",
    "- **Multiplication (`*`)**: Multiplies two numbers\n",
    "- **Division (`/`)**: Divides the first number by te second\n",
    "- **Exponentiation (`**`)**: Raises the first number to the power of the second\n",
    "\n",
    "few examples:\n",
    "```python\n",
    "# Addition\n",
    "5 + 3   # Output: 8\n",
    "\n",
    "# Subtraction\n",
    "10 - 4  # Output: 6\n",
    "\n",
    "# Multiplication\n",
    "7 * 2   # Output: 14\n",
    "\n",
    "# Division\n",
    "20 / 5  # Output: 4.0\n",
    "\n",
    "# Exponentiation\n",
    "3 ** 2  # Output: 9\n"
   ]
  },
  {
   "cell_type": "code",
   "execution_count": 4,
   "metadata": {},
   "outputs": [
    {
     "name": "stdout",
     "output_type": "stream",
     "text": [
      "the addition result :  13\n",
      "the multiplication result :  40\n"
     ]
    }
   ],
   "source": [
    "A = 5\n",
    "B = 8\n",
    "#addition\n",
    "C = A+B\n",
    "print(\"the addition result : \",C)\n",
    "A = 5\n",
    "B = 8\n",
    "#multiplication\n",
    "D = A*B\n",
    "print(\"the multiplication result : \",D)"
   ]
  },
  {
   "cell_type": "code",
   "execution_count": 9,
   "metadata": {},
   "outputs": [
    {
     "name": "stdin",
     "output_type": "stream",
     "text": [
      "enter time in minutes: 120\n"
     ]
    },
    {
     "name": "stdout",
     "output_type": "stream",
     "text": [
      "the time you enterd in hours is : 2 hours\n"
     ]
    }
   ],
   "source": [
    "#minutes to hours\n",
    "mins = input(\"enter time in minutes:\")\n",
    "hours = int(mins)/60\n",
    "print(\"the time you enterd in hours is :\",int(hours),\"hours\")"
   ]
  },
  {
   "cell_type": "code",
   "execution_count": null,
   "metadata": {},
   "outputs": [],
   "source": []
  }
 ],
 "metadata": {
  "kernelspec": {
   "display_name": "Python 3 (ipykernel)",
   "language": "python",
   "name": "python3"
  },
  "language_info": {
   "codemirror_mode": {
    "name": "ipython",
    "version": 3
   },
   "file_extension": ".py",
   "mimetype": "text/x-python",
   "name": "python",
   "nbconvert_exporter": "python",
   "pygments_lexer": "ipython3",
   "version": "3.11.9"
  }
 },
 "nbformat": 4,
 "nbformat_minor": 4
}
